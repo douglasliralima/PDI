{
 "cells": [
  {
   "cell_type": "markdown",
   "metadata": {},
   "source": [
    "# Configurações e imports\n",
    "\n",
    "<p> Fiz a celula abaixo com o intuito de organizar as celulas onde todos os imports e configuração estejam em uma única celula </p>"
   ]
  },
  {
   "cell_type": "code",
   "execution_count": 4,
   "metadata": {},
   "outputs": [],
   "source": [
    "import math\n",
    "import soundfile as sf\n",
    "%matplotlib inline\n",
    "from matplotlib import pyplot as plt"
   ]
  },
  {
   "cell_type": "markdown",
   "metadata": {},
   "source": [
    "# Funções de auxilio\n",
    "Precisa instalar pysoundfile com o pip para usar as funções abaixo"
   ]
  },
  {
   "cell_type": "code",
   "execution_count": 5,
   "metadata": {},
   "outputs": [
    {
     "data": {
      "text/plain": [
       "[<matplotlib.lines.Line2D at 0x7f37b0c33c18>]"
      ]
     },
     "execution_count": 5,
     "metadata": {},
     "output_type": "execute_result"
    },
    {
     "data": {
      "image/png": "[encoded data removed]",
      "text/plain": [
       "<Figure size 720x504 with 1 Axes>"
      ]
     },
     "metadata": {
      "needs_background": "light"
     },
     "output_type": "display_data"
    }
   ],
   "source": [
    "data, samplerate = sf.read('audio.wav')\n",
    "\n",
    "plt.figure(figsize = (10,7))\n",
    "plt.plot(data)"
   ]
  },
  {
   "cell_type": "markdown",
   "metadata": {},
   "source": [
    "# Exercício 1\n",
    "\n",
    "<p>1 - Dado um sinal de aúdio s com N amostras, desenvolva uma aplicação para encontrar uma aproximação de s obtida preservando-se os n coeficientes DCT mais importantes de s e zerando-se os demais. O parâmetro n é um inteiro no intervalo [1, N].</p>"
   ]
  },
  {
   "cell_type": "markdown",
   "metadata": {},
   "source": [
    "## Algoritmo - Transformada Cosseno Discreta\n",
    "\n",
    "1. Para cada amostra do sinal repetir os passos 2..4\n",
    "2. Calcular o valor da função cosseno nos sinais a partir daquela amostra\n",
    "3. Somar o valor, amostra a amostra com os valores obtidos da função Cosseno"
   ]
  },
  {
   "cell_type": "code",
   "execution_count": 6,
   "metadata": {},
   "outputs": [
    {
     "data": {
      "text/plain": [
       "[0.009754516100806417,\n",
       " -0.02777851165098011,\n",
       " 0.04157348061512728,\n",
       " -0.04903926402016152,\n",
       " 0.049039264020161524,\n",
       " -0.04157348061512725,\n",
       " 0.027778511650980078,\n",
       " -0.009754516100806255]"
      ]
     },
     "execution_count": 6,
     "metadata": {},
     "output_type": "execute_result"
    }
   ],
   "source": [
    "'''\n",
    "    xk = amostra original que vamos fazer a função cosseno resultante\n",
    "    K = Indice da amostra que se está criando a função cosseno\n",
    "    sinal = sinal dos n valores de xk originais\n",
    "'''\n",
    "\n",
    "def funcaoValorCosseno(Xk, K, sinais):\n",
    "    #Primeiro vamos descobrir o valor de Ck\n",
    "    Ck = None\n",
    "    if Xk == sinais[0]:\n",
    "        Ck = math.pow((1/2), (1/2))\n",
    "    else:\n",
    "        Ck = 1\n",
    "    Cos = []\n",
    "    Xn = []\n",
    "    n = 0\n",
    "    for sinal in sinais:\n",
    "        Cos.append(math.cos(\n",
    "                            ((2 * math.pi * n * K) / (2 * len(sinais))) +\n",
    "                            ((K * math.pi) / (2 * len(sinais)))\n",
    "                             ))\n",
    "        #Extração da função cosseno de Xk para cada um dos sinais\n",
    "        Xn.append(\n",
    "            math.pow((2/len(sinais)), 0.5) * Ck * Xk * \n",
    "            math.cos(\n",
    "                        ((2 * math.pi * n * K) / (2 * len(sinais))) +\n",
    "                        ((K * math.pi) / (2 * len(sinais)))\n",
    "                        )\n",
    "                 )\n",
    "        n+= 1\n",
    "    return Xn\n",
    "\n",
    "funcaoValorCosseno(0.1, 7, [10, 5, 8.5, 2, 1, 1.5, 0, 0.1])"
   ]
  },
  {
   "cell_type": "code",
   "execution_count": 18,
   "metadata": {},
   "outputs": [
    {
     "data": {
      "text/plain": [
       "8"
      ]
     },
     "execution_count": 18,
     "metadata": {},
     "output_type": "execute_result"
    }
   ],
   "source": [
    "len([10, 5, 8.5, 2, 1, 1.5, 0, 0.1])"
   ]
  },
  {
   "cell_type": "code",
   "execution_count": 20,
   "metadata": {},
   "outputs": [
    {
     "data": {
      "text/plain": [
       "3.141592653589793"
      ]
     },
     "execution_count": 20,
     "metadata": {},
     "output_type": "execute_result"
    }
   ],
   "source": [
    "math.pi"
   ]
  },
  {
   "cell_type": "code",
   "execution_count": null,
   "metadata": {},
   "outputs": [],
   "source": []
  }
 ],
 "metadata": {
  "kernelspec": {
   "display_name": "Python 3",
   "language": "python",
   "name": "python3"
  },
  "language_info": {
   "codemirror_mode": {
    "name": "ipython",
    "version": 3
   },
   "file_extension": ".py",
   "mimetype": "text/x-python",
   "name": "python",
   "nbconvert_exporter": "python",
   "pygments_lexer": "ipython3",
   "version": "3.5.2"
  }
 },
 "nbformat": 4,
 "nbformat_minor": 2
}
